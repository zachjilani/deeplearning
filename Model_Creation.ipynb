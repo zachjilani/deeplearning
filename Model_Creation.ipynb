{
  "nbformat": 4,
  "nbformat_minor": 0,
  "metadata": {
    "colab": {
      "provenance": [],
      "collapsed_sections": [],
      "authorship_tag": "ABX9TyPT0qbEXPYV/lnHvKkFEcSE",
      "include_colab_link": true
    },
    "kernelspec": {
      "name": "python3",
      "display_name": "Python 3"
    },
    "language_info": {
      "name": "python"
    }
  },
  "cells": [
    {
      "cell_type": "markdown",
      "metadata": {
        "id": "view-in-github",
        "colab_type": "text"
      },
      "source": [
        "<a href=\"https://colab.research.google.com/github/zachjilani/deeplearning/blob/master/Model_Creation.ipynb\" target=\"_parent\"><img src=\"https://colab.research.google.com/assets/colab-badge.svg\" alt=\"Open In Colab\"/></a>"
      ]
    },
    {
      "cell_type": "markdown",
      "source": [
        "1.\n",
        "\n",
        "What are the inputs?\n",
        "- The inputs are 50,000 color images\n",
        "\n",
        "What are the labels?\n",
        "- There are 10 labels. These labels from 0-9 are:\n",
        "airplane, automobile, bird, cat, deer, dog, frog, horse, ship and truck.\n",
        "\n",
        "What are the dimensions of this dataset?\n",
        "a total of 60,000 images(50,000 training and 10,000 test) over 10 categories, giving each category 6,000 images.\n"
      ],
      "metadata": {
        "id": "iA1ESqZNsUG8"
      }
    },
    {
      "cell_type": "code",
      "execution_count": null,
      "metadata": {
        "colab": {
          "base_uri": "https://localhost:8080/",
          "height": 676
        },
        "id": "eRECWOZ7qUe3",
        "outputId": "e43fa4de-11ba-4505-dd9d-fec7eac82223"
      },
      "outputs": [
        {
          "output_type": "stream",
          "name": "stdout",
          "text": [
            "Epoch 1/10\n",
            "1563/1563 [==============================] - 117s 74ms/step - loss: 1.7604 - accuracy: 0.3840 - val_loss: 1.4191 - val_accuracy: 0.4947\n",
            "Epoch 2/10\n",
            "1563/1563 [==============================] - 110s 70ms/step - loss: 1.3294 - accuracy: 0.5275 - val_loss: 1.2743 - val_accuracy: 0.5485\n",
            "Epoch 3/10\n",
            "1563/1563 [==============================] - 109s 69ms/step - loss: 1.1840 - accuracy: 0.5825 - val_loss: 1.2655 - val_accuracy: 0.5564\n",
            "Epoch 4/10\n",
            "1563/1563 [==============================] - 108s 69ms/step - loss: 1.0928 - accuracy: 0.6194 - val_loss: 1.2285 - val_accuracy: 0.5880\n",
            "Epoch 5/10\n",
            "1563/1563 [==============================] - 109s 70ms/step - loss: 1.0238 - accuracy: 0.6449 - val_loss: 1.1600 - val_accuracy: 0.6028\n",
            "Epoch 6/10\n",
            "1563/1563 [==============================] - 109s 70ms/step - loss: 0.9596 - accuracy: 0.6649 - val_loss: 1.0530 - val_accuracy: 0.6400\n",
            "Epoch 7/10\n",
            "1563/1563 [==============================] - 110s 71ms/step - loss: 0.9066 - accuracy: 0.6844 - val_loss: 1.0596 - val_accuracy: 0.6428\n",
            "Epoch 8/10\n",
            "1563/1563 [==============================] - 111s 71ms/step - loss: 0.8592 - accuracy: 0.7020 - val_loss: 1.0413 - val_accuracy: 0.6518\n",
            "Epoch 9/10\n",
            "1563/1563 [==============================] - 110s 71ms/step - loss: 0.8126 - accuracy: 0.7189 - val_loss: 1.0791 - val_accuracy: 0.6475\n",
            "Epoch 10/10\n",
            "1563/1563 [==============================] - 111s 71ms/step - loss: 0.7811 - accuracy: 0.7300 - val_loss: 1.0836 - val_accuracy: 0.6517\n",
            "313/313 - 5s - loss: 1.0836 - accuracy: 0.6517 - 5s/epoch - 15ms/step\n",
            "0.6517000198364258\n"
          ]
        },
        {
          "output_type": "display_data",
          "data": {
            "text/plain": [
              "<Figure size 432x288 with 1 Axes>"
            ],
            "image/png": "[encoded data removed]"
          },
          "metadata": {
            "needs_background": "light"
          }
        }
      ],
      "source": [
        "from numpy.ma.core import shape\n",
        "import tensorflow as tf\n",
        "from keras.datasets import cifar10\n",
        "from keras import activations, layers, models\n",
        "import numpy as np\n",
        "import matplotlib.pyplot as plt\n",
        "\n",
        "\n",
        "\n",
        "(train_img, train_labels),(test_img, test_labels) = cifar10.load_data()\n",
        "assert train_img.shape == (50000, 32, 32, 3)\n",
        "assert test_img.shape == (10000, 32, 32, 3)\n",
        "assert train_labels.shape == (50000, 1)\n",
        "assert test_labels.shape == (10000, 1)\n",
        "\n",
        "\n",
        "# class_names = ['airplane', 'automobile', 'bird', 'cat', 'deer',\n",
        "#                'dog', 'frog', 'horse', 'ship', 'truck']\n",
        "\n",
        "# plt.figure(figsize=(10,10))\n",
        "# for i in range(25):\n",
        "#     plt.subplot(5,5,i+1)\n",
        "#     plt.xticks([])\n",
        "#     plt.yticks([])\n",
        "#     plt.grid(False)\n",
        "#     plt.imshow(train_img[i])\n",
        "#     # The CIFAR labels happen to be arrays, \n",
        "#     # which is why you need the extra index\n",
        "#     plt.xlabel(class_names[train_labels[i][0]])\n",
        "# plt.show()\n",
        "\n",
        "model = models.Sequential()\n",
        "model.add(layers.Conv2D(32, (3, 3), activation='relu', input_shape=(32, 32, 3)))\n",
        "model.add(layers.MaxPooling2D((2, 2)))\n",
        "model.add(layers.Conv2D(64, (3, 3), activation='relu'))\n",
        "model.add(layers.MaxPooling2D((2, 2)))\n",
        "model.add(layers.Conv2D(64, (3, 3), activation='relu'))\n",
        "model.add(layers.Flatten())\n",
        "model.add(layers.Dense(64, activation='relu'))\n",
        "model.add(layers.Dense(10))\n",
        "\n",
        "model.compile(optimizer='adam',\n",
        "              loss=tf.keras.losses.SparseCategoricalCrossentropy(from_logits=True),\n",
        "              metrics=['accuracy'])\n",
        "history = model.fit(train_img, train_labels, epochs=10, validation_data=(test_img, test_labels))\n",
        "\n",
        "plt.plot(history.history['accuracy'], label='accuracy')\n",
        "plt.plot(history.history['val_accuracy'], label = 'val_accuracy')\n",
        "plt.xlabel('Epoch')\n",
        "plt.ylabel('Accuracy')\n",
        "plt.ylim([0.5, 1])\n",
        "plt.legend(loc='lower right')\n",
        "\n",
        "test_loss, test_acc = model.evaluate(test_img,  test_labels, verbose=2)\n",
        "print(test_acc)\n",
        "\n",
        "\n"
      ]
    }
  ]
}